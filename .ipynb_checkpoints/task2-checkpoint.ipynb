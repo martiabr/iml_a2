{
 "cells": [
  {
   "cell_type": "code",
   "execution_count": 25,
   "metadata": {},
   "outputs": [
    {
     "name": "stdout",
     "output_type": "stream",
     "text": [
      "[[[ 34.      nan    nan ...    nan 142.     7.33]\n",
      "  [ 34.      nan    nan ...    nan 125.     7.33]\n",
      "  [ 34.      nan    nan ...    nan 110.     7.37]\n",
      "  ...\n",
      "  [ 34.      nan    nan ...    nan 110.     7.39]\n",
      "  [ 34.      nan    nan ...    nan 124.     7.39]\n",
      "  [ 34.      nan    nan ...    nan 102.      nan]]\n",
      "\n",
      " [[ 71.      nan    nan ...    nan    nan    nan]\n",
      "  [ 71.      nan    nan ...    nan 145.      nan]\n",
      "  [ 71.      nan    nan ...    nan 135.      nan]\n",
      "  ...\n",
      "  [ 71.      nan    nan ...    nan 140.      nan]\n",
      "  [ 71.      nan    nan ...    nan 131.      nan]\n",
      "  [ 71.      nan    nan ...    nan 136.      nan]]\n",
      "\n",
      " [[ 68.      nan    nan ...    nan 158.      nan]\n",
      "  [ 68.      nan  20.9  ...    nan 107.      nan]\n",
      "  [ 68.      nan    nan ...    nan 105.      nan]\n",
      "  ...\n",
      "  [ 68.      nan    nan ...    nan 110.      nan]\n",
      "  [ 68.      nan    nan ...    nan  97.      nan]\n",
      "  [ 68.      nan    nan ...    nan 116.      nan]]\n",
      "\n",
      " ...\n",
      "\n",
      " [[ 53.      nan    nan ...    nan 113.     7.41]\n",
      "  [ 53.      nan    nan ...    nan 103.      nan]\n",
      "  [ 53.      nan    nan ...    nan  89.     7.36]\n",
      "  ...\n",
      "  [ 53.      nan    nan ...    nan 100.      nan]\n",
      "  [ 53.      nan    nan ...    nan 100.      nan]\n",
      "  [ 53.      nan    nan ...    nan  95.      nan]]\n",
      "\n",
      " [[ 89.      nan    nan ...    nan    nan    nan]\n",
      "  [ 89.      nan  34.7  ...    nan 109.      nan]\n",
      "  [ 89.      nan    nan ...    nan 110.      nan]\n",
      "  ...\n",
      "  [ 89.      nan    nan ...    nan 143.      nan]\n",
      "  [ 89.      nan    nan ...   0.85 126.      nan]\n",
      "  [ 89.      nan    nan ...    nan 156.      nan]]\n",
      "\n",
      " [[ 85.      nan    nan ...    nan    nan    nan]\n",
      "  [ 85.      nan    nan ...    nan 151.      nan]\n",
      "  [ 85.      nan  36.4  ...    nan 155.      nan]\n",
      "  ...\n",
      "  [ 85.      nan    nan ...    nan 138.      nan]\n",
      "  [ 85.      nan    nan ...    nan 125.      nan]\n",
      "  [ 85.      nan    nan ...    nan 128.      nan]]]\n"
     ]
    }
   ],
   "source": [
    "import numpy as np\n",
    "import pandas as pd\n",
    "import math\n",
    "from matplotlib import pyplot as plt\n",
    "from sklearn.linear_model import Lasso, Ridge, LinearRegression, LassoCV\n",
    "from sklearn.model_selection import cross_val_score, cross_validate, train_test_split\n",
    "from sklearn.metrics import make_scorer, mean_squared_error\n",
    "\n",
    "train_features_file = \"train_features.csv\"\n",
    "train_labels_file = \"train_labels.csv\"\n",
    "output_file = \"submission.txt\"\n",
    "\n",
    "def read_from_file(file):\n",
    "    # comma delimited is the default\n",
    "    df = pd.read_csv(file, header = 0)\n",
    "    # put the original column names in a python list\n",
    "    original_headers = list(df.columns.values)\n",
    "    # remove the non-numeric columns\n",
    "    df = df._get_numeric_data()\n",
    "    # put the numeric column names in a python list\n",
    "    numeric_headers = list(df.columns.values)\n",
    "    # create a numpy array with the numeric values for input into scikit-learn\n",
    "    return df.values\n",
    "\n",
    "features = read_from_file(train_features_file)\n",
    "labels = read_from_file(train_labels_file)\n",
    "\n",
    "m = 12  # m = #hours per patient\n",
    "n = features.shape[0] // m  # n = #patients\n",
    "X = features.reshape(n, m, -1)[:, :, 2:]\n",
    "d_x = X.shape[2]  # d_x = #features per patient per hour\n",
    "Y = labels[:, 1:]"
   ]
  },
  {
   "cell_type": "code",
   "execution_count": 8,
   "metadata": {},
   "outputs": [
    {
     "data": {
      "text/plain": [
       "\"\\nplt.scatter(np.exp(x[:, 3]), y, alpha=0.3)\\nplt.show()\\n\\n#xt = np.zeros([n,21])\\n#xt[:,:5] = x\\n#xt[:,5:10] = np.square(x)\\n#xt[:,10:15] = np.exp(x)\\n#xt[:,15:20] = np.cos(x)\\n#xt[:,20] = np.ones(n)\\n\\nxt = np.exp(x[:, 3]).reshape(-1, 1)\\n#print(xt)\\n\\nfolds = 10\\nmax_iterations = 100000\\nlassocv = LassoCV(cv=folds,max_iter=max_iterations,fit_intercept=False)\\nreg = lassocv.fit(xt,y.flatten())\\n\\nsolution = reg.coef_\\nprint(solution)\\nnp.savetxt(output_file, solution, fmt='%.10f')\\n\""
      ]
     },
     "execution_count": 8,
     "metadata": {},
     "output_type": "execute_result"
    }
   ],
   "source": [
    "\n",
    "\n",
    "# X = n x m x d_x, with n = #patients, m = #hours per patient, d_x = #features per patient per hour\n",
    "# Y = n x d_y, with d_y = #labels per patient\n",
    "\n",
    "# Issue: some patients do not start at hour 1, but 2, 3, 4 etc???\n",
    "\n",
    "# Do normalization here?\n",
    "\n",
    "# metrics.classification_report for classification metrics\n",
    "# Impution: impute.KNNImputer or impute.SimpleImputer?\n",
    "\n",
    "'''\n",
    "plt.scatter(np.exp(x[:, 3]), y, alpha=0.3)\n",
    "plt.show()\n",
    "\n",
    "#xt = np.zeros([n,21])\n",
    "#xt[:,:5] = x\n",
    "#xt[:,5:10] = np.square(x)\n",
    "#xt[:,10:15] = np.exp(x)\n",
    "#xt[:,15:20] = np.cos(x)\n",
    "#xt[:,20] = np.ones(n)\n",
    "\n",
    "xt = np.exp(x[:, 3]).reshape(-1, 1)\n",
    "#print(xt)\n",
    "\n",
    "folds = 10\n",
    "max_iterations = 100000\n",
    "lassocv = LassoCV(cv=folds,max_iter=max_iterations,fit_intercept=False)\n",
    "reg = lassocv.fit(xt,y.flatten())\n",
    "\n",
    "solution = reg.coef_\n",
    "print(solution)\n",
    "np.savetxt(output_file, solution, fmt='%.10f')\n",
    "'''"
   ]
  },
  {
   "cell_type": "code",
   "execution_count": null,
   "metadata": {},
   "outputs": [],
   "source": []
  }
 ],
 "metadata": {
  "kernelspec": {
   "display_name": "Python 3",
   "language": "python",
   "name": "python3"
  },
  "language_info": {
   "codemirror_mode": {
    "name": "ipython",
    "version": 3
   },
   "file_extension": ".py",
   "mimetype": "text/x-python",
   "name": "python",
   "nbconvert_exporter": "python",
   "pygments_lexer": "ipython3",
   "version": "3.7.6"
  }
 },
 "nbformat": 4,
 "nbformat_minor": 4
}
