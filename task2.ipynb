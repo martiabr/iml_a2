{
 "cells": [
  {
   "cell_type": "markdown",
   "metadata": {},
   "source": [
    "# IML assignment 2\n",
    "### Import libraries and data:"
   ]
  },
  {
   "cell_type": "code",
   "execution_count": 29,
   "metadata": {},
   "outputs": [],
   "source": [
    "import numpy as np\n",
    "import pandas as pd\n",
    "import math\n",
    "from matplotlib import pyplot as plt\n",
    "from sklearn.linear_model import Lasso, Ridge, LinearRegression, LassoCV\n",
    "from sklearn.model_selection import cross_val_score, cross_validate, train_test_split\n",
    "from sklearn.metrics import make_scorer, mean_squared_error\n",
    "\n",
    "def read_from_file(file):\n",
    "    df = pd.read_csv(file, header = 0)\n",
    "    return df._get_numeric_data().values\n",
    "\n",
    "train_features_file = \"train_features.csv\"\n",
    "train_labels_file = \"train_labels.csv\"\n",
    "output_file = \"submission.txt\"\n",
    "\n",
    "features = read_from_file(train_features_file)\n",
    "labels = read_from_file(train_labels_file)\n",
    "\n",
    "m = 12  # m = #hours per patient\n",
    "n = features.shape[0] // m  # n = #patients\n",
    "X = features.reshape(n, m, -1)[:, :, 2:]\n",
    "d_x = X.shape[2]  # d_x = #features per patient per hour\n",
    "Y = labels[:, 1:]\n",
    "d_y = X.shape[1]"
   ]
  },
  {
   "cell_type": "markdown",
   "metadata": {},
   "source": [
    "\n",
    "\n",
    "### Subtask 1:\n",
    "Predict whether medical tests are ordered by a clinician in the remainder of the hospital stay: 0 means that there will be no further tests of this kind ordered, 1 means that at least one of a test of that kind will be ordered. In the submission file, you are asked to submit predictions in the interval [0, 1], i.e., the predictions are not restricted to binary. 0.0 indicates you are certain this test will not be ordered, 1.0 indicates you are sure it will be ordered. The corresponding columns containing the binary groundtruth in train_labels.csv are: LABEL_BaseExcess, LABEL_Fibrinogen, LABEL_AST, LABEL_Alkalinephos, LABEL_Bilirubin_total, LABEL_Lactate, LABEL_TroponinI, LABEL_SaO2, LABEL_Bilirubin_direct, LABEL_EtCO2.\n"
   ]
  },
  {
   "cell_type": "code",
   "execution_count": 8,
   "metadata": {},
   "outputs": [
    {
     "data": {
      "text/plain": [
       "\"\\nplt.scatter(np.exp(x[:, 3]), y, alpha=0.3)\\nplt.show()\\n\\n#xt = np.zeros([n,21])\\n#xt[:,:5] = x\\n#xt[:,5:10] = np.square(x)\\n#xt[:,10:15] = np.exp(x)\\n#xt[:,15:20] = np.cos(x)\\n#xt[:,20] = np.ones(n)\\n\\nxt = np.exp(x[:, 3]).reshape(-1, 1)\\n#print(xt)\\n\\nfolds = 10\\nmax_iterations = 100000\\nlassocv = LassoCV(cv=folds,max_iter=max_iterations,fit_intercept=False)\\nreg = lassocv.fit(xt,y.flatten())\\n\\nsolution = reg.coef_\\nprint(solution)\\nnp.savetxt(output_file, solution, fmt='%.10f')\\n\""
      ]
     },
     "execution_count": 8,
     "metadata": {},
     "output_type": "execute_result"
    }
   ],
   "source": [
    "\n",
    "\n",
    "# X = n x m x d_x, with n = #patients, m = #hours per patient, d_x = #features per patient per hour\n",
    "# Y = n x d_y, with d_y = #labels per patient\n",
    "\n",
    "# Issue: some patients do not start at hour 1, but 2, 3, 4 etc???\n",
    "\n",
    "# Do normalization here?\n",
    "\n",
    "# metrics.classification_report for classification metrics\n",
    "# Impution: impute.KNNImputer or impute.SimpleImputer?\n",
    "\n",
    "'''\n",
    "plt.scatter(np.exp(x[:, 3]), y, alpha=0.3)\n",
    "plt.show()\n",
    "\n",
    "#xt = np.zeros([n,21])\n",
    "#xt[:,:5] = x\n",
    "#xt[:,5:10] = np.square(x)\n",
    "#xt[:,10:15] = np.exp(x)\n",
    "#xt[:,15:20] = np.cos(x)\n",
    "#xt[:,20] = np.ones(n)\n",
    "\n",
    "xt = np.exp(x[:, 3]).reshape(-1, 1)\n",
    "#print(xt)\n",
    "\n",
    "folds = 10\n",
    "max_iterations = 100000\n",
    "lassocv = LassoCV(cv=folds,max_iter=max_iterations,fit_intercept=False)\n",
    "reg = lassocv.fit(xt,y.flatten())\n",
    "\n",
    "solution = reg.coef_\n",
    "print(solution)\n",
    "np.savetxt(output_file, solution, fmt='%.10f')\n",
    "'''"
   ]
  },
  {
   "cell_type": "markdown",
   "metadata": {},
   "source": [
    "### Subtask 2:\n",
    "Predict whether sepsis will occur in the remaining stay: 0 means that no sepsis will occur, 1 otherwise. Similar to Subtask 1, you are asked to produce predictions in the interval [0, 1] for this task. The corresponding column containing the binary groundtruth in train_labels.csv is LABEL_Sepsis."
   ]
  },
  {
   "cell_type": "code",
   "execution_count": null,
   "metadata": {},
   "outputs": [],
   "source": []
  },
  {
   "cell_type": "markdown",
   "metadata": {},
   "source": [
    "### Subtask 3:\n",
    "Predict future mean values of key vital signs. The corresponding columns containing the real-valued groundtruth in train_labels.csv are LABEL_RRate, LABEL_ABPm, LABEL_SpO2, LABEL_Heartrate."
   ]
  },
  {
   "cell_type": "code",
   "execution_count": null,
   "metadata": {},
   "outputs": [],
   "source": []
  }
 ],
 "metadata": {
  "kernelspec": {
   "display_name": "Python 3",
   "language": "python",
   "name": "python3"
  },
  "language_info": {
   "codemirror_mode": {
    "name": "ipython",
    "version": 3
   },
   "file_extension": ".py",
   "mimetype": "text/x-python",
   "name": "python",
   "nbconvert_exporter": "python",
   "pygments_lexer": "ipython3",
   "version": "3.7.6"
  }
 },
 "nbformat": 4,
 "nbformat_minor": 4
}
