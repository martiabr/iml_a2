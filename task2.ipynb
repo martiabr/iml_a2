{
 "cells": [
  {
   "cell_type": "markdown",
   "metadata": {},
   "source": [
    "# IML assignment 2\n",
    "### Import libraries and data:"
   ]
  },
  {
   "cell_type": "code",
   "execution_count": 22,
   "metadata": {},
   "outputs": [],
   "source": [
    "import numpy as np\n",
    "import pandas as pd\n",
    "import math\n",
    "from matplotlib import pyplot as plt\n",
    "from sklearn import svm\n",
    "from sklearn.linear_model import Lasso, Ridge, LinearRegression, LassoCV\n",
    "from sklearn.model_selection import cross_val_score, cross_validate, train_test_split\n",
    "from sklearn import metrics\n",
    "from sklearn.experimental import enable_iterative_imputer\n",
    "from sklearn.impute import KNNImputer, SimpleImputer, IterativeImputer\n",
    "from sklearn.covariance import EllipticEnvelope\n",
    "from sklearn import preprocessing\n",
    "from sklearn.ensemble import RandomForestClassifier\n",
    "\n",
    "def read_from_file(file):\n",
    "    df = pd.read_csv(file, header = 0)\n",
    "    return df._get_numeric_data().values\n",
    "\n",
    "train_features_file = \"train_features.csv\"\n",
    "train_labels_file = \"train_labels.csv\"\n",
    "output_file = \"submission.txt\"\n",
    "\n",
    "train_features = read_from_file(train_features_file)\n",
    "labels = read_from_file(train_labels_file)\n",
    "\n",
    "m = 12  # m = #hours per patient\n",
    "\n",
    "# Reduce data size for faster testing: (remove this for entire data set)\n",
    "k = 10000\n",
    "train_features = train_features[:k*12, :]\n",
    "labels = labels[:k, :]\n",
    "\n",
    "n = labels.shape[0] # n = #patients\n",
    "\n",
    "X_2d = train_features.reshape(n, m, -1)[:, :, 2:]  # features represented as 3D n * m * d_x array\n",
    "d_x = X_2d.shape[2]  # d_x = #features per patient per hour\n",
    "\n",
    "X = X_2d[:, :, 1:].reshape(n, m * (d_x - 1))  # features represented as 2D n * m d_x array\n",
    "X = np.concatenate((X_2d[:, 0, 0].reshape(n, 1), X), axis=1)  # Add age feature seperately so that it is not repated 12 times\n",
    "Y = labels[:, 1:]\n",
    "d_y = Y.shape[1]\n"
   ]
  },
  {
   "cell_type": "markdown",
   "metadata": {},
   "source": [
    "### Data impution:"
   ]
  },
  {
   "cell_type": "code",
   "execution_count": 2,
   "metadata": {},
   "outputs": [
    {
     "name": "stdout",
     "output_type": "stream",
     "text": [
      "(10000, 409)\n"
     ]
    }
   ],
   "source": [
    "# Data impution:\n",
    "#imputer = KNNImputer(n_neighbors=2, weights=\"uniform\")  # can also do weights=\"distance\"\n",
    "imputer = SimpleImputer(missing_values=np.nan, strategy='most_frequent')  # this is a stupid strategy but KNN is too slow?\n",
    "#imputer = IterativeImputer(max_iter=2, random_state=0)\n",
    "X_imp = imputer.fit_transform(X)\n",
    "print(np.shape(X_imp))"
   ]
  },
  {
   "cell_type": "markdown",
   "metadata": {},
   "source": [
    "### Outlier removal:"
   ]
  },
  {
   "cell_type": "code",
   "execution_count": 3,
   "metadata": {},
   "outputs": [
    {
     "name": "stdout",
     "output_type": "stream",
     "text": [
      "fit done\n",
      "predict done\n",
      "(9000, 409)\n"
     ]
    }
   ],
   "source": [
    "outliers_fraction = 0.1\n",
    "clf = EllipticEnvelope(contamination=outliers_fraction, support_fraction=0.7)\n",
    "clf.fit(X_imp)\n",
    "print(\"fit done\")\n",
    "#scores_pred = clf.decision_function(X_imp)\n",
    "y_pred = clf.predict(X_imp)\n",
    "print(\"predict done\")\n",
    "X_inliers = X_imp[y_pred==1]\n",
    "Y_inliers = Y[y_pred==1]\n",
    "print(np.shape(X_inliers))"
   ]
  },
  {
   "cell_type": "markdown",
   "metadata": {},
   "source": [
    "### Standardization:"
   ]
  },
  {
   "cell_type": "code",
   "execution_count": 11,
   "metadata": {},
   "outputs": [],
   "source": [
    "scaler = preprocessing.StandardScaler().fit(X_inliers)\n",
    "#scaler = preprocessing.MinMaxScaler().fit(X_inliers)\n",
    "X_std = scaler.transform(X_inliers)"
   ]
  },
  {
   "cell_type": "code",
   "execution_count": 12,
   "metadata": {},
   "outputs": [],
   "source": [
    "# Feature engineering????"
   ]
  },
  {
   "cell_type": "markdown",
   "metadata": {},
   "source": [
    "### Load test file:"
   ]
  },
  {
   "cell_type": "code",
   "execution_count": 13,
   "metadata": {},
   "outputs": [],
   "source": [
    "test_features_file = \"test_features.csv\"\n",
    "test_features = read_from_file(test_features_file)\n",
    "n_test = test_features.shape[0] // m\n",
    "X_2d_test = test_features.reshape(n_test, m, -1)[:, :, 2:]\n",
    "X_test = X_2d_test[:, :, 1:].reshape(n_test, m * (d_x - 1))\n",
    "X_test = np.concatenate((X_2d_test[:, 0, 0].reshape(n_test, 1), X_test), axis=1)"
   ]
  },
  {
   "cell_type": "code",
   "execution_count": 14,
   "metadata": {},
   "outputs": [],
   "source": [
    "#imputer = SimpleImputer(missing_values=np.nan, strategy='most_frequent')\n",
    "#imputer = KNNImputer(n_neighbors=2, weights=\"uniform\")\n",
    "X_test_imp = imputer.transform(X_test)\n",
    "\n",
    "X_test_std = scaler.transform(X_test_imp)\n"
   ]
  },
  {
   "cell_type": "markdown",
   "metadata": {},
   "source": [
    "\n",
    "\n",
    "### Subtask 1:\n",
    "Predict whether medical tests are ordered by a clinician in the remainder of the hospital stay: 0 means that there will be no further tests of this kind ordered, 1 means that at least one of a test of that kind will be ordered. In the submission file, you are asked to submit predictions in the interval [0, 1], i.e., the predictions are not restricted to binary. 0.0 indicates you are certain this test will not be ordered, 1.0 indicates you are sure it will be ordered. The corresponding columns containing the binary groundtruth in train_labels.csv are: LABEL_BaseExcess, LABEL_Fibrinogen, LABEL_AST, LABEL_Alkalinephos, LABEL_Bilirubin_total, LABEL_Lactate, LABEL_TroponinI, LABEL_SaO2, LABEL_Bilirubin_direct, LABEL_EtCO2.\n"
   ]
  },
  {
   "cell_type": "code",
   "execution_count": 45,
   "metadata": {},
   "outputs": [],
   "source": [
    "# Issue: some patients do not start at hour 1, but 2, 3, 4 etc???\n",
    "\n",
    "C = 1  # Regularization parameter (inversely proportional, not lambda)\n",
    "clf = svm.SVC(C=C, kernel='rbf', gamma='scale', probability=False, class_weight='balanced')  # The “balanced” mode uses the values of y to automatically adjust weights inversely proportional to class frequencies in the input data\n",
    "#clf = RandomForestClassifier(max_depth=2, random_state=0)"
   ]
  },
  {
   "cell_type": "code",
   "execution_count": 51,
   "metadata": {},
   "outputs": [
    {
     "name": "stdout",
     "output_type": "stream",
     "text": [
      "[0.06451613 0.05555556 0.03278689 0.01785714 0.02061856]\n"
     ]
    }
   ],
   "source": [
    "# CV evaluation:\n",
    "scores = cross_val_score(clf, X_std, Y_inliers[:, 8], cv=5, scoring='f1')\n",
    "print(scores)"
   ]
  },
  {
   "cell_type": "code",
   "execution_count": 48,
   "metadata": {},
   "outputs": [
    {
     "data": {
      "text/plain": [
       "SVC(C=1, break_ties=False, cache_size=200, class_weight='balanced', coef0=0.0,\n",
       "    decision_function_shape='ovr', degree=3, gamma='scale', kernel='rbf',\n",
       "    max_iter=-1, probability=False, random_state=None, shrinking=True,\n",
       "    tol=0.001, verbose=False)"
      ]
     },
     "execution_count": 48,
     "metadata": {},
     "output_type": "execute_result"
    }
   ],
   "source": [
    "# Train, predict, print score:\n",
    "clf.fit(X_std, Y_inliers[:, 8])\n",
    "#score = clf.score(X_std, Y_inliers[:, 8])\n",
    "#print(score)\n",
    "#solution = clf.decision_function(X_test_std)\n",
    "#solution = (1 + np.exp(-solution))**-1\n",
    "#np.savetxt(output_file, solution, fmt='%.10f')"
   ]
  },
  {
   "cell_type": "code",
   "execution_count": 49,
   "metadata": {},
   "outputs": [
    {
     "name": "stdout",
     "output_type": "stream",
     "text": [
      "              precision    recall  f1-score   support\n",
      "\n",
      "         0.0       1.00      0.97      0.98      8787\n",
      "         1.0       0.45      0.99      0.62       213\n",
      "\n",
      "    accuracy                           0.97      9000\n",
      "   macro avg       0.72      0.98      0.80      9000\n",
      "weighted avg       0.99      0.97      0.98      9000\n",
      "\n"
     ]
    }
   ],
   "source": [
    "# Generate classification metrics:\n",
    "Y_pred = clf.predict(X_std)\n",
    "print(metrics.classification_report(Y_inliers[:, 8], Y_pred))"
   ]
  },
  {
   "cell_type": "code",
   "execution_count": 50,
   "metadata": {},
   "outputs": [
    {
     "data": {
      "image/png": "[encoded data removed]",
      "text/plain": [
       "<Figure size 432x288 with 1 Axes>"
      ]
     },
     "metadata": {
      "needs_background": "light"
     },
     "output_type": "display_data"
    }
   ],
   "source": [
    "# ROC curve:\n",
    "metrics.plot_roc_curve(clf, X_std, Y_inliers[:, 7]) \n",
    "plt.show()"
   ]
  },
  {
   "cell_type": "markdown",
   "metadata": {},
   "source": [
    "### Subtask 2:\n",
    "Predict whether sepsis will occur in the remaining stay: 0 means that no sepsis will occur, 1 otherwise. Similar to Subtask 1, you are asked to produce predictions in the interval [0, 1] for this task. The corresponding column containing the binary groundtruth in train_labels.csv is LABEL_Sepsis."
   ]
  },
  {
   "cell_type": "code",
   "execution_count": null,
   "metadata": {},
   "outputs": [],
   "source": [
    "# Why is this task different than the one before??"
   ]
  },
  {
   "cell_type": "markdown",
   "metadata": {},
   "source": [
    "### Subtask 3:\n",
    "Predict future mean values of key vital signs. The corresponding columns containing the real-valued groundtruth in train_labels.csv are LABEL_RRate, LABEL_ABPm, LABEL_SpO2, LABEL_Heartrate."
   ]
  },
  {
   "cell_type": "code",
   "execution_count": null,
   "metadata": {},
   "outputs": [],
   "source": [
    "# Do regression instead of classification"
   ]
  }
 ],
 "metadata": {
  "kernelspec": {
   "display_name": "Python 3",
   "language": "python",
   "name": "python3"
  },
  "language_info": {
   "codemirror_mode": {
    "name": "ipython",
    "version": 3
   },
   "file_extension": ".py",
   "mimetype": "text/x-python",
   "name": "python",
   "nbconvert_exporter": "python",
   "pygments_lexer": "ipython3",
   "version": "3.7.6"
  }
 },
 "nbformat": 4,
 "nbformat_minor": 4
}
