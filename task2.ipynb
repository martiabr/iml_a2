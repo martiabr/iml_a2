{
 "cells": [
  {
   "cell_type": "markdown",
   "metadata": {},
   "source": [
    "# IML assignment 2\n",
    "### Import libraries and data:"
   ]
  },
  {
   "cell_type": "code",
   "execution_count": 537,
   "metadata": {},
   "outputs": [],
   "source": [
    "import numpy as np\n",
    "import pandas as pd\n",
    "import math\n",
    "from matplotlib import pyplot as plt\n",
    "from sklearn import svm\n",
    "from sklearn import preprocessing\n",
    "from sklearn import metrics\n",
    "from sklearn.linear_model import Lasso, Ridge, LinearRegression, LassoCV\n",
    "from sklearn.model_selection import cross_val_score, cross_validate, train_test_split\n",
    "from sklearn.experimental import enable_iterative_imputer\n",
    "from sklearn.impute import KNNImputer, SimpleImputer, IterativeImputer\n",
    "from sklearn.covariance import EllipticEnvelope\n",
    "from sklearn.ensemble import RandomForestClassifier, IsolationForest\n",
    "from sklearn.feature_selection import SelectKBest, f_classif, chi2, VarianceThreshold\n",
    "from sklearn.neighbors import LocalOutlierFactor\n",
    "from sklearn import linear_model\n",
    "\n",
    "def read_from_file(file):\n",
    "    df = pd.read_csv(file, header = 0)\n",
    "    return df._get_numeric_data().values\n",
    "\n",
    "train_features_file = \"train_features.csv\"\n",
    "train_labels_file = \"train_labels.csv\"\n",
    "output_file = \"submission.txt\"\n",
    "\n",
    "train_features = read_from_file(train_features_file)\n",
    "labels = read_from_file(train_labels_file)\n",
    "\n",
    "m = 12  # m = #hours per patient\n",
    "\n",
    "# Reduce data size for faster testing: (remove this for entire data set)\n",
    "#k = 1000\n",
    "#train_features = train_features[:k*12, :]\n",
    "#labels = labels[:k, :]\n",
    "\n",
    "n = labels.shape[0] # n = #patients\n",
    "\n",
    "X_2d = train_features.reshape(n, m, -1)[:, :, 2:]  # features represented as 3D n * m * d_x array\n",
    "d_x = X_2d.shape[2]  # d_x = #features per patient per hour\n",
    "\n",
    "X = X_2d[:, :, 1:].reshape(n, m * (d_x - 1))  # features represented as 2D n * m d_x array\n",
    "X = np.concatenate((X_2d[:, 0, 0].reshape(n, 1), X), axis=1)  # Add age feature seperately so that it is not repeated 12 times\n",
    "Y = labels[:, 1:]\n",
    "d_y = Y.shape[1]\n"
   ]
  },
  {
   "cell_type": "markdown",
   "metadata": {},
   "source": [
    "### Data impution:"
   ]
  },
  {
   "cell_type": "code",
   "execution_count": 538,
   "metadata": {},
   "outputs": [
    {
     "name": "stdout",
     "output_type": "stream",
     "text": [
      "(18995, 409)\n"
     ]
    }
   ],
   "source": [
    "# Data impution:\n",
    "#imputer = KNNImputer(n_neighbors=10, weights=\"uniform\")  # can also do weights=\"distance\"\n",
    "#imputer = IterativeImputer(max_iter=2, random_state=0)\n",
    "imputer = SimpleImputer(missing_values=np.nan, strategy='most_frequent')  # this is a stupid strategy but KNN is too slow?\n",
    "X_imp = imputer.fit_transform(X)\n",
    "print(np.shape(X_imp))\n",
    "# This gives ok results"
   ]
  },
  {
   "cell_type": "markdown",
   "metadata": {},
   "source": [
    "### Outlier removal:"
   ]
  },
  {
   "cell_type": "code",
   "execution_count": 539,
   "metadata": {},
   "outputs": [
    {
     "name": "stdout",
     "output_type": "stream",
     "text": [
      "(18235, 409)\n"
     ]
    }
   ],
   "source": [
    "#clf = EllipticEnvelope(contamination=0.05, random_state=0)\n",
    "#clf = IsolationForest(random_state=0, n_estimators=100)\n",
    "#clf.fit(X_imp)\n",
    "#print(\"fit done\")\n",
    "#scores_pred = clf.decision_function(X_imp)\n",
    "#y_pred = clf.predict(X_imp)\n",
    "#print(\"predict done\")\n",
    "\n",
    "clf = LocalOutlierFactor(n_neighbors=50, contamination=0.04)\n",
    "y_pred = clf.fit_predict(X_imp)\n",
    "X_inliers = X_imp[y_pred==1]\n",
    "Y_inliers = Y[y_pred==1]\n",
    "print(X_inliers.shape)"
   ]
  },
  {
   "cell_type": "markdown",
   "metadata": {},
   "source": [
    "### Feature selection:"
   ]
  },
  {
   "cell_type": "code",
   "execution_count": 540,
   "metadata": {},
   "outputs": [
    {
     "name": "stdout",
     "output_type": "stream",
     "text": [
      "(18235, 409)\n"
     ]
    }
   ],
   "source": [
    "selector = VarianceThreshold(threshold=1e-4)\n",
    "X_fs = selector.fit_transform(X_inliers)  # remove constant or low variance features\n",
    "print(X_fs.shape)"
   ]
  },
  {
   "cell_type": "markdown",
   "metadata": {},
   "source": [
    "### Standardization:"
   ]
  },
  {
   "cell_type": "code",
   "execution_count": 541,
   "metadata": {},
   "outputs": [],
   "source": [
    "scaler = preprocessing.StandardScaler().fit(X_fs)\n",
    "#scaler = preprocessing.MinMaxScaler().fit(X_fs)\n",
    "X_std = scaler.transform(X_fs)\n",
    "# This also has a negative effect??"
   ]
  },
  {
   "cell_type": "code",
   "execution_count": 542,
   "metadata": {},
   "outputs": [],
   "source": [
    "# Feature engineering????"
   ]
  },
  {
   "cell_type": "markdown",
   "metadata": {},
   "source": [
    "### Load test file:"
   ]
  },
  {
   "cell_type": "code",
   "execution_count": 543,
   "metadata": {},
   "outputs": [],
   "source": [
    "test_features_file = \"test_features.csv\"\n",
    "test_features = read_from_file(test_features_file)\n",
    "X_test_ID = test_features[1:,0]\n",
    "X_test_ID = pd.unique(X_test_ID)\n",
    "n_test = test_features.shape[0] // m\n",
    "X_2d_test = test_features.reshape(n_test, m, -1)[:, :, 2:]\n",
    "X_test = X_2d_test[:, :, 1:].reshape(n_test, m * (d_x - 1))\n",
    "X_test = np.concatenate((X_2d_test[:, 0, 0].reshape(n_test, 1), X_test), axis=1)"
   ]
  },
  {
   "cell_type": "markdown",
   "metadata": {},
   "source": [
    "### Impute and standardize test data:"
   ]
  },
  {
   "cell_type": "code",
   "execution_count": 544,
   "metadata": {},
   "outputs": [],
   "source": [
    "X_test_imp = imputer.transform(X_test)\n",
    "X_test_fs = selector.transform(X_test_imp)\n",
    "X_test_std = scaler.transform(X_test_fs)"
   ]
  },
  {
   "cell_type": "markdown",
   "metadata": {},
   "source": [
    "\n",
    "\n",
    "### Subtask 1:\n",
    "Predict whether medical tests are ordered by a clinician in the remainder of the hospital stay: 0 means that there will be no further tests of this kind ordered, 1 means that at least one of a test of that kind will be ordered. In the submission file, you are asked to submit predictions in the interval [0, 1], i.e., the predictions are not restricted to binary. 0.0 indicates you are certain this test will not be ordered, 1.0 indicates you are sure it will be ordered. The corresponding columns containing the binary groundtruth in train_labels.csv are: LABEL_BaseExcess, LABEL_Fibrinogen, LABEL_AST, LABEL_Alkalinephos, LABEL_Bilirubin_total, LABEL_Lactate, LABEL_TroponinI, LABEL_SaO2, LABEL_Bilirubin_direct, LABEL_EtCO2.\n"
   ]
  },
  {
   "cell_type": "code",
   "execution_count": 545,
   "metadata": {},
   "outputs": [],
   "source": [
    "# Issue: some patients do not start at hour 1, but 2, 3, 4 etc???\n",
    "C = 0.5  # Regularization parameter (inversely proportional, not lambda)\n",
    "clf = svm.SVC(C=C, kernel='rbf', gamma='scale', probability=False, class_weight='balanced')  # The “balanced” mode uses the values of y to automatically adjust weights inversely proportional to class frequencies in the input data\n",
    "#clf = RandomForestClassifier(n_estimators = 200, random_state=0, class_weight='balanced')\n",
    "\n",
    "# TODO: try prob=True"
   ]
  },
  {
   "cell_type": "code",
   "execution_count": 459,
   "metadata": {},
   "outputs": [
    {
     "name": "stdout",
     "output_type": "stream",
     "text": [
      "Label 0 mean ROCAUC: 0.7840314614962501\n",
      "Label 1 mean ROCAUC: 0.6979013521234051\n",
      "Label 2 mean ROCAUC: 0.6700798697124769\n",
      "Label 3 mean ROCAUC: 0.665460976528789\n",
      "Label 4 mean ROCAUC: 0.6642696736738014\n",
      "Label 5 mean ROCAUC: 0.70282503511784\n",
      "Label 6 mean ROCAUC: 0.6595294117647058\n",
      "Label 7 mean ROCAUC: 0.7005135730007337\n",
      "Label 8 mean ROCAUC: 0.5188402047035823\n",
      "Label 9 mean ROCAUC: 0.8104700238503323\n",
      "Label 10 mean ROCAUC: 0.55022071544171\n",
      "Mean ROCAUC: 0.6749220270376024\n"
     ]
    }
   ],
   "source": [
    "# CV ROCAUC evaluation:\n",
    "rocauc = metrics.make_scorer(metrics.roc_auc_score)\n",
    "ROCAUCs = np.zeros(11)\n",
    "for i in range(0, 11):\n",
    "    X_kb = SelectKBest(f_classif, k=75).fit_transform(X_std, Y_inliers[:, i])\n",
    "    scores = cross_val_score(clf, X_kb, Y_inliers[:, i], cv=5, scoring=rocauc)\n",
    "    #print(\"ROCAUCs:\", scores)\n",
    "    print(\"Label\", i, \"mean ROCAUC:\", scores.mean())\n",
    "    ROCAUCs[i] = scores.mean()\n",
    "    \n",
    "    #clf.fit(X_kb, Y_inliers[:, i])\n",
    "    #metrics.plot_roc_curve(clf, X_kb, Y_inliers[:, i]) \n",
    "    #plt.show()\n",
    "print(\"Mean ROCAUC:\", ROCAUCs.mean())"
   ]
  },
  {
   "cell_type": "code",
   "execution_count": 552,
   "metadata": {},
   "outputs": [
    {
     "name": "stdout",
     "output_type": "stream",
     "text": [
      "[[0.89088299 0.57075408 0.68894034 ... 0.3522124  0.25344376 0.64625275]\n",
      " [0.25211603 0.26490505 0.51406144 ... 0.38101444 0.23752982 0.23511855]\n",
      " [0.39710057 0.23575831 0.23723666 ... 0.24371085 0.34887233 0.47337669]\n",
      " ...\n",
      " [0.64768623 0.27926833 0.33761208 ... 0.22961809 0.20577536 0.74845772]\n",
      " [0.69865428 0.57061474 0.6903154  ... 0.35231067 0.54247757 0.38317158]\n",
      " [0.61311424 0.25228662 0.25038525 ... 0.28002379 0.26886591 0.42638693]]\n"
     ]
    }
   ],
   "source": [
    "# Train, predict, print score:\n",
    "solution = 0.5*np.ones(np.shape(X_test_std[:,0:11]))\n",
    "\n",
    "for i in range(0, 11):\n",
    "    selector_kbest = SelectKBest(f_classif, k=75)\n",
    "    X_kb = selector_kbest.fit_transform(X_std, Y_inliers[:, i])\n",
    "    clf.fit(X_kb, Y_inliers[:, i])\n",
    "\n",
    "    X_test_std_kb = selector_kbest.transform(X_test_std)\n",
    "    sol = clf.decision_function(X_test_std_kb)\n",
    "    solution[:,i] = (1 + np.exp(-sol))**-1\n",
    "print(solution)"
   ]
  },
  {
   "cell_type": "code",
   "execution_count": 447,
   "metadata": {},
   "outputs": [
    {
     "ename": "NotFittedError",
     "evalue": "This SVC instance is not fitted yet. Call 'fit' with appropriate arguments before using this estimator.",
     "output_type": "error",
     "traceback": [
      "\u001b[0;31m---------------------------------------------------------------------------\u001b[0m",
      "\u001b[0;31mNotFittedError\u001b[0m                            Traceback (most recent call last)",
      "\u001b[0;32m<ipython-input-447-9664b03e7254>\u001b[0m in \u001b[0;36m<module>\u001b[0;34m\u001b[0m\n\u001b[1;32m      1\u001b[0m \u001b[0;31m# Generate classification metrics:\u001b[0m\u001b[0;34m\u001b[0m\u001b[0;34m\u001b[0m\u001b[0;34m\u001b[0m\u001b[0m\n\u001b[0;32m----> 2\u001b[0;31m \u001b[0mY_pred\u001b[0m \u001b[0;34m=\u001b[0m \u001b[0mclf\u001b[0m\u001b[0;34m.\u001b[0m\u001b[0mpredict\u001b[0m\u001b[0;34m(\u001b[0m\u001b[0mX_std\u001b[0m\u001b[0;34m)\u001b[0m\u001b[0;34m\u001b[0m\u001b[0;34m\u001b[0m\u001b[0m\n\u001b[0m\u001b[1;32m      3\u001b[0m \u001b[0mprint\u001b[0m\u001b[0;34m(\u001b[0m\u001b[0mmetrics\u001b[0m\u001b[0;34m.\u001b[0m\u001b[0mclassification_report\u001b[0m\u001b[0;34m(\u001b[0m\u001b[0mY_inliers\u001b[0m\u001b[0;34m[\u001b[0m\u001b[0;34m:\u001b[0m\u001b[0;34m,\u001b[0m \u001b[0;36m0\u001b[0m\u001b[0;34m]\u001b[0m\u001b[0;34m,\u001b[0m \u001b[0mY_pred\u001b[0m\u001b[0;34m)\u001b[0m\u001b[0;34m)\u001b[0m\u001b[0;34m\u001b[0m\u001b[0;34m\u001b[0m\u001b[0m\n",
      "\u001b[0;32m~/opt/anaconda3/lib/python3.7/site-packages/sklearn/svm/_base.py\u001b[0m in \u001b[0;36mpredict\u001b[0;34m(self, X)\u001b[0m\n\u001b[1;32m    582\u001b[0m             \u001b[0mClass\u001b[0m \u001b[0mlabels\u001b[0m \u001b[0;32mfor\u001b[0m \u001b[0msamples\u001b[0m \u001b[0;32min\u001b[0m \u001b[0mX\u001b[0m\u001b[0;34m.\u001b[0m\u001b[0;34m\u001b[0m\u001b[0;34m\u001b[0m\u001b[0m\n\u001b[1;32m    583\u001b[0m         \"\"\"\n\u001b[0;32m--> 584\u001b[0;31m         \u001b[0mcheck_is_fitted\u001b[0m\u001b[0;34m(\u001b[0m\u001b[0mself\u001b[0m\u001b[0;34m)\u001b[0m\u001b[0;34m\u001b[0m\u001b[0;34m\u001b[0m\u001b[0m\n\u001b[0m\u001b[1;32m    585\u001b[0m         \u001b[0;32mif\u001b[0m \u001b[0mself\u001b[0m\u001b[0;34m.\u001b[0m\u001b[0mbreak_ties\u001b[0m \u001b[0;32mand\u001b[0m \u001b[0mself\u001b[0m\u001b[0;34m.\u001b[0m\u001b[0mdecision_function_shape\u001b[0m \u001b[0;34m==\u001b[0m \u001b[0;34m'ovo'\u001b[0m\u001b[0;34m:\u001b[0m\u001b[0;34m\u001b[0m\u001b[0;34m\u001b[0m\u001b[0m\n\u001b[1;32m    586\u001b[0m             raise ValueError(\"break_ties must be False when \"\n",
      "\u001b[0;32m~/opt/anaconda3/lib/python3.7/site-packages/sklearn/utils/validation.py\u001b[0m in \u001b[0;36mcheck_is_fitted\u001b[0;34m(estimator, attributes, msg, all_or_any)\u001b[0m\n\u001b[1;32m    965\u001b[0m \u001b[0;34m\u001b[0m\u001b[0m\n\u001b[1;32m    966\u001b[0m     \u001b[0;32mif\u001b[0m \u001b[0;32mnot\u001b[0m \u001b[0mattrs\u001b[0m\u001b[0;34m:\u001b[0m\u001b[0;34m\u001b[0m\u001b[0;34m\u001b[0m\u001b[0m\n\u001b[0;32m--> 967\u001b[0;31m         \u001b[0;32mraise\u001b[0m \u001b[0mNotFittedError\u001b[0m\u001b[0;34m(\u001b[0m\u001b[0mmsg\u001b[0m \u001b[0;34m%\u001b[0m \u001b[0;34m{\u001b[0m\u001b[0;34m'name'\u001b[0m\u001b[0;34m:\u001b[0m \u001b[0mtype\u001b[0m\u001b[0;34m(\u001b[0m\u001b[0mestimator\u001b[0m\u001b[0;34m)\u001b[0m\u001b[0;34m.\u001b[0m\u001b[0m__name__\u001b[0m\u001b[0;34m}\u001b[0m\u001b[0;34m)\u001b[0m\u001b[0;34m\u001b[0m\u001b[0;34m\u001b[0m\u001b[0m\n\u001b[0m\u001b[1;32m    968\u001b[0m \u001b[0;34m\u001b[0m\u001b[0m\n\u001b[1;32m    969\u001b[0m \u001b[0;34m\u001b[0m\u001b[0m\n",
      "\u001b[0;31mNotFittedError\u001b[0m: This SVC instance is not fitted yet. Call 'fit' with appropriate arguments before using this estimator."
     ]
    }
   ],
   "source": [
    "# Generate classification metrics:\n",
    "Y_pred = clf.predict(X_std)\n",
    "print(metrics.classification_report(Y_inliers[:, i], Y_pred))"
   ]
  },
  {
   "cell_type": "code",
   "execution_count": 454,
   "metadata": {},
   "outputs": [
    {
     "data": {
      "image/png": "[encoded data removed]",
      "text/plain": [
       "<Figure size 432x288 with 1 Axes>"
      ]
     },
     "metadata": {
      "needs_background": "light"
     },
     "output_type": "display_data"
    }
   ],
   "source": [
    "# ROC curve:\n",
    "metrics.plot_roc_curve(clf, X_std, Y_inliers[:, 0]) \n",
    "plt.show()"
   ]
  },
  {
   "cell_type": "markdown",
   "metadata": {},
   "source": [
    "### Subtask 2:\n",
    "Predict whether sepsis will occur in the remaining stay: 0 means that no sepsis will occur, 1 otherwise. Similar to Subtask 1, you are asked to produce predictions in the interval [0, 1] for this task. The corresponding column containing the binary groundtruth in train_labels.csv is LABEL_Sepsis."
   ]
  },
  {
   "cell_type": "code",
   "execution_count": null,
   "metadata": {},
   "outputs": [],
   "source": [
    "# Why is this task different than the one before??"
   ]
  },
  {
   "cell_type": "markdown",
   "metadata": {},
   "source": [
    "### Subtask 3:\n",
    "Predict future mean values of key vital signs. The corresponding columns containing the real-valued groundtruth in train_labels.csv are LABEL_RRate, LABEL_ABPm, LABEL_SpO2, LABEL_Heartrate."
   ]
  },
  {
   "cell_type": "code",
   "execution_count": 553,
   "metadata": {},
   "outputs": [
    {
     "name": "stdout",
     "output_type": "stream",
     "text": [
      "11 : 0.44984297270219026 with alpha: 0.5\n",
      "12 : 0.6166715044688404 with alpha: 0.5\n",
      "13 : 0.39805832608456126 with alpha: 0.5\n",
      "14 : 0.662371816399411 with alpha: 0.5\n"
     ]
    }
   ],
   "source": [
    "regcv = linear_model.RidgeCV(alphas = [0.01, 0.05, 0.1, 0.5])  # doesnt look like cv is working, always picks highest alpha?\n",
    "\n",
    "for i in range(11, 15):\n",
    "    regcv.fit(X_std, Y_inliers[:, i])\n",
    "    alpha = regcv.alpha_\n",
    "    \n",
    "    reg = linear_model.Ridge(alpha=alpha)\n",
    "    reg.fit(X_std, Y_inliers[:, i])\n",
    "    print(i, \":\", reg.score(X_std, Y_inliers[:, i]), \"with alpha:\", alpha)\n",
    "    sol = reg.predict(X_test_std)\n",
    "    \n",
    "    sol = np.reshape(sol,[np.size(sol),1])\n",
    "    solution = np.append(solution,sol,axis=1)\n",
    "    \n"
   ]
  },
  {
   "cell_type": "code",
   "execution_count": 554,
   "metadata": {},
   "outputs": [
    {
     "name": "stdout",
     "output_type": "stream",
     "text": [
      "(12664, 16)\n",
      "           pid  LABEL_BaseExcess  LABEL_Fibrinogen  LABEL_AST  \\\n",
      "0          0.0          0.890883          0.570754   0.688940   \n",
      "1      10001.0          0.252116          0.264905   0.514061   \n",
      "2      10003.0          0.397101          0.235758   0.237237   \n",
      "3      10004.0          0.252067          0.353236   0.597018   \n",
      "4      10005.0          0.271347          0.273978   0.314789   \n",
      "...        ...               ...               ...        ...   \n",
      "12659   9989.0          0.372260          0.246045   0.661062   \n",
      "12660   9991.0          0.516474          0.401334   0.291139   \n",
      "12661   9992.0          0.647686          0.279268   0.337612   \n",
      "12662   9994.0          0.698654          0.570615   0.690315   \n",
      "12663   9997.0          0.613114          0.252287   0.250385   \n",
      "\n",
      "       LABEL_Alkalinephos  LABEL_Bilirubin_total  LABEL_Lactate  \\\n",
      "0                0.690827               0.690736       0.674164   \n",
      "1                0.511857               0.536502       0.278217   \n",
      "2                0.216993               0.235384       0.633157   \n",
      "3                0.610021               0.621866       0.249455   \n",
      "4                0.266485               0.333239       0.278114   \n",
      "...                   ...                    ...            ...   \n",
      "12659            0.704600               0.668275       0.318216   \n",
      "12660            0.295843               0.293375       0.322993   \n",
      "12661            0.351917               0.344314       0.544216   \n",
      "12662            0.691389               0.691906       0.690438   \n",
      "12663            0.248109               0.249699       0.446620   \n",
      "\n",
      "       LABEL_TroponinI  LABEL_SaO2  LABEL_Bilirubin_direct  LABEL_EtCO2  \\\n",
      "0             0.298417    0.656627                0.352212     0.253444   \n",
      "1             0.343089    0.310457                0.381014     0.237530   \n",
      "2             0.391675    0.713919                0.243711     0.348872   \n",
      "3             0.356198    0.263680                0.425806     0.248053   \n",
      "4             0.191545    0.236868                0.257687     0.235533   \n",
      "...                ...         ...                     ...          ...   \n",
      "12659         0.185275    0.280054                0.291610     0.284121   \n",
      "12660         0.284357    0.280155                0.375585     0.221130   \n",
      "12661         0.196849    0.635814                0.229618     0.205775   \n",
      "12662         0.239505    0.685134                0.352311     0.542478   \n",
      "12663         0.259808    0.505684                0.280024     0.268866   \n",
      "\n",
      "       LABEL_Sepsis  LABEL_RRate  LABEL_ABPm  LABEL_SpO2  LABEL_Heartrate  \n",
      "0          0.646253    15.092458   84.202620   98.593719        85.724670  \n",
      "1          0.235119    18.411033   87.624089   94.594646        97.489142  \n",
      "2          0.473377    16.767302   81.899386   98.046685        89.272753  \n",
      "3          0.280756    16.477904   74.116266   95.383539        87.800076  \n",
      "4          0.325773    19.533656   75.256215   95.441675        60.303086  \n",
      "...             ...          ...         ...         ...              ...  \n",
      "12659      0.591266    20.641526   79.156489   95.157685       100.112966  \n",
      "12660      0.390252    18.382975   90.909435   98.530937        74.581424  \n",
      "12661      0.748458    18.665441   66.763709   97.365625        82.380381  \n",
      "12662      0.383172    17.799691  105.527438  103.156563       101.088485  \n",
      "12663      0.426387    17.430176   77.055454   98.627842        87.101954  \n",
      "\n",
      "[12664 rows x 16 columns]\n"
     ]
    }
   ],
   "source": [
    "solution = np.fliplr(solution)\n",
    "X_test_ID = np.reshape(X_test_ID,[len(X_test_ID),1])\n",
    "solution = np.append(solution,X_test_ID,axis=1)\n",
    "solution = np.fliplr(solution)\n",
    "print(solution.shape)\n",
    "df = pd.DataFrame(solution, columns = ['pid','LABEL_BaseExcess','LABEL_Fibrinogen','LABEL_AST','LABEL_Alkalinephos','LABEL_Bilirubin_total','LABEL_Lactate','LABEL_TroponinI','LABEL_SaO2','LABEL_Bilirubin_direct','LABEL_EtCO2','LABEL_Sepsis','LABEL_RRate','LABEL_ABPm','LABEL_SpO2','LABEL_Heartrate'])\n",
    "df.to_csv('prediction.zip', index=False, float_format='%.3f', compression='zip')\n",
    "np.savetxt(output_file, df, fmt='%.10f')\n",
    "print(df)"
   ]
  },
  {
   "cell_type": "code",
   "execution_count": null,
   "metadata": {},
   "outputs": [],
   "source": []
  },
  {
   "cell_type": "code",
   "execution_count": null,
   "metadata": {},
   "outputs": [],
   "source": []
  }
 ],
 "metadata": {
  "kernelspec": {
   "display_name": "Python 3",
   "language": "python",
   "name": "python3"
  },
  "language_info": {
   "codemirror_mode": {
    "name": "ipython",
    "version": 3
   },
   "file_extension": ".py",
   "mimetype": "text/x-python",
   "name": "python",
   "nbconvert_exporter": "python",
   "pygments_lexer": "ipython3",
   "version": "3.7.6"
  }
 },
 "nbformat": 4,
 "nbformat_minor": 4
}
